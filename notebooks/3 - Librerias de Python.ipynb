{
 "cells": [
  {
   "cell_type": "markdown",
   "id": "4033dddb",
   "metadata": {},
   "source": [
    "# Librerías útiles para el análisis de datos\n",
    "La idea es mostrar las librerías que son necesarias para el análisis de series temporales y espaciales."
   ]
  },
  {
   "cell_type": "markdown",
   "id": "f3bd3f17",
   "metadata": {},
   "source": [
    "## 1. Instalación de las librerías"
   ]
  },
  {
   "cell_type": "code",
   "execution_count": null,
   "id": "3ee4130f",
   "metadata": {},
   "outputs": [],
   "source": [
    "pip install pandas numpy"
   ]
  },
  {
   "cell_type": "markdown",
   "id": "35b7130f",
   "metadata": {},
   "source": [
    "## 2. Importar las librerías\n",
    "Para importar una librería utilizamos la palabra reservada \"import\" seguida del nombre de la librería. Podemos asignarle una abreviación a la librería, por ejemplo, \"import pandas as pd\"."
   ]
  },
  {
   "cell_type": "markdown",
   "id": "425e5cba",
   "metadata": {},
   "source": [
    "## 3. Numpy\n",
    "\n",
    "NumPy es una librería fundamental para el análisis de datos en Python. Proporciona arreglos multidimensionales (arrays) y funciones matemáticas optimizadas para trabajar con datos numéricos. Es la base para otras librerías como Pandas y Matplotlib."
   ]
  },
  {
   "cell_type": "code",
   "execution_count": null,
   "id": "5cb98e5f",
   "metadata": {},
   "outputs": [],
   "source": [
    "import numpy as np\n",
    "\n",
    "print(\"Versión de NumPy:\", np.__version__)"
   ]
  },
  {
   "cell_type": "markdown",
   "id": "24a80cc2",
   "metadata": {},
   "source": [
    "### Creando Arreglos en NumPy\n",
    "\n",
    "Los arreglos de NumPy (`ndarray`) son similares a las listas de Python, pero más eficientes para cálculos numéricos. Podemos crear arreglos de varias formas:\n",
    "- A partir de una lista.\n",
    "- Con funciones integradas como `zeros`, `ones`, o `arange`."
   ]
  },
  {
   "cell_type": "code",
   "execution_count": null,
   "id": "47df4ce0",
   "metadata": {},
   "outputs": [],
   "source": [
    "# Crear un arreglo desde una lista\n",
    "lista = [1, 2, 3, 4]\n",
    "arreglo = np.array(lista)\n",
    "print(\"Arreglo desde lista:\", arreglo)\n",
    "\n",
    "# Arreglo de ceros (3 elementos)\n",
    "ceros = np.zeros(3)\n",
    "print(\"\\nArreglo de ceros:\", ceros)\n",
    "\n",
    "# Arreglo de unos (2x3)\n",
    "unos = np.ones((2, 3))\n",
    "print(\"\\nMatriz de unos (2x3):\\n\", unos)\n",
    "\n",
    "# Arreglo con rango de valores\n",
    "rango = np.arange(0, 10, 2)  # de 0 a 9, paso de 2\n",
    "print(\"\\nArreglo con rango:\", rango)\n",
    "\n",
    "# Arreglo con valores espaciados uniformemente\n",
    "lineal = np.linspace(0, 1, 5)  # 5 valores entre 0 y 1\n",
    "print(\"\\nValores espaciados:\", lineal)"
   ]
  },
  {
   "cell_type": "markdown",
   "id": "e312a786",
   "metadata": {},
   "source": [
    "### Propiedades de los Arreglos\n",
    "\n",
    "Los arreglos de NumPy tienen propiedades útiles:\n",
    "- `shape`: Forma del arreglo (dimensiones).\n",
    "- `size`: Número total de elementos.\n",
    "- `dtype`: Tipo de datos de los elementos."
   ]
  },
  {
   "cell_type": "code",
   "execution_count": null,
   "id": "81bc38b4",
   "metadata": {},
   "outputs": [],
   "source": [
    "# Crear un arreglo 2D\n",
    "matriz = np.array([[1, 2, 3], [4, 5, 6]])\n",
    "print(\"Matriz:\\n\", matriz)\n",
    "\n",
    "# Propiedades\n",
    "print(\"Forma (shape):\", matriz.shape)\n",
    "print(\"Tamaño (size):\", matriz.size)\n",
    "print(\"Tipo de datos (dtype):\", matriz.dtype)"
   ]
  },
  {
   "cell_type": "markdown",
   "id": "c8a46e8b",
   "metadata": {},
   "source": [
    "### Operaciones Básicas con Arreglos\n",
    "\n",
    "NumPy permite realizar operaciones matemáticas elemento a elemento de manera eficiente, sin necesidad de bucles explícitos. Esto es ideal para análisis de datos."
   ]
  },
  {
   "cell_type": "code",
   "execution_count": null,
   "id": "27aac154",
   "metadata": {},
   "outputs": [],
   "source": [
    "# Crear dos arreglos\n",
    "a = np.array([1, 2, 3])\n",
    "b = np.array([4, 5, 6])\n",
    "\n",
    "# Operaciones elemento a elemento\n",
    "suma = a + b\n",
    "print(\"Suma:\", suma)\n",
    "\n",
    "resta = a - b\n",
    "print(\"\\nResta:\", resta)\n",
    "\n",
    "multiplicacion = a * b\n",
    "print(\"\\nMultiplicación:\", multiplicacion)\n",
    "\n",
    "division = a / b\n",
    "print(\"\\nDivisión:\", division)\n",
    "\n",
    "# Operaciones con escalares\n",
    "escalar = a * 2\n",
    "print(\"\\nMultiplicación por escalar:\", escalar)\n",
    "\n",
    "# Funciones matemáticas\n",
    "cuadrado = np.square(a)\n",
    "print(\"\\nCuadrado de a:\", cuadrado)"
   ]
  },
  {
   "cell_type": "code",
   "execution_count": null,
   "id": "d347573f",
   "metadata": {},
   "outputs": [],
   "source": [
    "# Operaciones lógicas\n",
    "arr_1 = np.array([1, 2, 3, 4])\n",
    "arr_2 = np.array([0, 1, 3, 5])\n",
    "print(\"\\nElementos mayores que 2:\", arr_1 > 2)\n",
    "print('\\nMulti vs Suma:', arr_1 == arr_2)\n",
    "\n",
    "arr_1 = np.array([True, False, False, True])\n",
    "arr_2 = np.array([True, True, False, False])\n",
    "print('\\narr_1 =', arr_1)\n",
    "print('arr_2 =', arr_2)\n",
    "print('\\n\\tAnd:', arr_1 & arr_2)\n",
    "print('\\n\\tOr:', arr_1 | arr_2)\n",
    "print('\\n\\tNot arr_1:', ~arr_1)\n",
    "print('\\n\\tAll:', np.all(arr_1))\n",
    "print('\\n\\tAny:', np.any(arr_1))"
   ]
  },
  {
   "cell_type": "markdown",
   "id": "b17737ee",
   "metadata": {},
   "source": [
    "### Indexación y Segmentación\n",
    "\n",
    "Podemos acceder a elementos específicos de un arreglo o extraer subarreglos usando índices y segmentación, similar a las listas de Python."
   ]
  },
  {
   "cell_type": "code",
   "execution_count": null,
   "id": "c2d05af8",
   "metadata": {},
   "outputs": [],
   "source": [
    "# Arreglo 1D\n",
    "arr = np.array([10, 20, 30, 40, 50])\n",
    "print(\"Arreglo:\", arr)\n",
    "\n",
    "# Acceder a un elemento\n",
    "print(\"\\nElemento en índice 2:\", arr[2])\n",
    "\n",
    "# Segmentación\n",
    "print(\"\\nElementos del índice 1 al 3:\", arr[1:4])\n",
    "\n",
    "# Arreglo 2D\n",
    "matriz = np.array([[1, 2, 3], [4, 5, 6], [7, 8, 9]])\n",
    "print(\"\\nMatriz:\\n\", matriz)\n",
    "\n",
    "# Acceder a un elemento (fila 1, columna 2)\n",
    "print(\"\\nElemento [1,2]:\", matriz[1, 2])\n",
    "\n",
    "# Extraer una fila\n",
    "print(\"\\nFila 1:\", matriz[1, :])\n",
    "\n",
    "# Extraer una columna\n",
    "print(\"\\nColumna 0:\", matriz[:, 0])"
   ]
  },
  {
   "cell_type": "markdown",
   "id": "3bb0bd2f",
   "metadata": {},
   "source": [
    "### Operaciones Estadísticas\n",
    "\n",
    "NumPy ofrece funciones para cálculos estadísticos, esenciales para el análisis de datos."
   ]
  },
  {
   "cell_type": "code",
   "execution_count": null,
   "id": "ba065f15",
   "metadata": {},
   "outputs": [],
   "source": [
    "# Podríamos preguntarle a la IA: ¿Cómo se calculan los estadísticos básicos de un ndarray?\n",
    "\n",
    "\n",
    "\n"
   ]
  },
  {
   "cell_type": "markdown",
   "id": "2f321342",
   "metadata": {},
   "source": [
    "### Reshape y Concatenación\n",
    "\n",
    "Podemos cambiar la forma de un arreglo (`reshape`) o combinar múltiples arreglos, lo cual es útil para preparar datos para análisis."
   ]
  },
  {
   "cell_type": "code",
   "execution_count": null,
   "id": "8a2f82e2",
   "metadata": {},
   "outputs": [],
   "source": [
    "# Podríamos preguntarle a la IA: ¿Cómo cambiamos la forma de un ndarray y cómo podemos unir varios ndarray?\n",
    "\n",
    "\n",
    "\n"
   ]
  },
  {
   "cell_type": "markdown",
   "id": "006489c6",
   "metadata": {},
   "source": [
    "## 4. Scipy\n",
    "\n",
    "SciPy es una librería de Python que extiende las capacidades de NumPy para cálculos científicos y análisis de datos. Proporciona herramientas para estadística, optimización, integración numérica, álgebra lineal, entre otros."
   ]
  },
  {
   "cell_type": "code",
   "execution_count": null,
   "id": "83a4ed4f",
   "metadata": {},
   "outputs": [],
   "source": [
    "import scipy\n",
    "\n",
    "import numpy as np\n",
    "\n",
    "from scipy import stats, optimize, integrate\n",
    "\n",
    "print(\"Versión de SciPy:\", scipy.__version__)"
   ]
  },
  {
   "cell_type": "markdown",
   "id": "47fd2b09",
   "metadata": {},
   "source": [
    "El módulo scipy.stats ofrece herramientas para análisis estadístico, como pruebas de hipótesis, distribuciones y cálculos de probabilidad."
   ]
  },
  {
   "cell_type": "code",
   "execution_count": null,
   "id": "e11296ba",
   "metadata": {},
   "outputs": [],
   "source": [
    "# Generar datos de ejemplo (notas de estudiantes)\n",
    "notas = np.array([85, 90, 78, 92, 88, 76, 95, 89])\n",
    "\n",
    "# Estadísticas descriptivas\n",
    "media = stats.describe(notas).mean\n",
    "varianza = stats.describe(notas).variance\n",
    "print(\"Media de las notas:\", media)\n",
    "print(\"Varianza de las notas:\", varianza)\n",
    "\n",
    "# Prueba de normalidad (Shapiro-Wilk)\n",
    "# ¿Son las notas normalmente distribuidas?\n",
    "stat, p_valor = stats.shapiro(notas)\n",
    "print(\"Prueba de normalidad (p-valor):\", p_valor)\n",
    "print(\"Si p > 0.05, los datos parecen normales.\")"
   ]
  },
  {
   "cell_type": "markdown",
   "id": "506046f0",
   "metadata": {},
   "source": [
    "El módulo scipy.optimize permite encontrar mínimos o raíces de funciones."
   ]
  },
  {
   "cell_type": "code",
   "execution_count": null,
   "id": "b2b8eabb",
   "metadata": {},
   "outputs": [],
   "source": [
    "# Definir una función cuadrática: f(x) = x^2 + 2x + 1\n",
    "def funcion_cuadratica(x):\n",
    "    return x**2 + 2*x + 1\n",
    "\n",
    "# Encontrar el mínimo\n",
    "resultado = optimize.minimize_scalar(funcion_cuadratica)\n",
    "print(\"Mínimo de la función en x =\", resultado.x)\n",
    "print(\"Valor de la función en el mínimo:\", resultado.fun)\n",
    "\n",
    "# Ejemplo: Ajuste de una curva\n",
    "# Datos de ejemplo\n",
    "x_datos = np.array([0, 1, 2, 3, 4])\n",
    "y_datos = np.array([1.1, 2.9, 5.2, 6.8, 9.1])\n",
    "\n",
    "# Definir modelo lineal: y = mx + b\n",
    "def modelo_lineal(x, m, b):\n",
    "    return m * x + b\n",
    "\n",
    "# Ajustar el modelo a los datos\n",
    "parametros, _ = optimize.curve_fit(modelo_lineal, x_datos, y_datos)\n",
    "print(\"Parámetros ajustados (m, b):\", parametros)"
   ]
  },
  {
   "cell_type": "markdown",
   "id": "748e1798",
   "metadata": {},
   "source": [
    "El módulo scipy.integrate permite calcular integrales numéricas."
   ]
  },
  {
   "cell_type": "code",
   "execution_count": null,
   "id": "647a1216",
   "metadata": {},
   "outputs": [],
   "source": [
    "# Definir una función: f(x) = x^2 + 2\n",
    "def funcion(x):\n",
    "    return x**2 + 2\n",
    "\n",
    "# Calcular la integral definida de 0 a 3\n",
    "resultado, error = integrate.quad(funcion, 0, 3)\n",
    "print(\"Integral de x^2 + 2 de 0 a 3:\", resultado)\n",
    "print(\"Error estimado:\", error)\n",
    "\n",
    "# Ejemplo: Probabilidad en una distribución normal\n",
    "# Probabilidad entre -1 y 1 en una normal estándar\n",
    "prob, _ = integrate.quad(stats.norm.pdf, -1, 1)\n",
    "print(\"Probabilidad entre -1 y 1 (distribución normal):\", prob)"
   ]
  },
  {
   "cell_type": "markdown",
   "id": "82f9f06f",
   "metadata": {},
   "source": [
    "## 5. Pandas\n",
    "\n",
    "Pandas es una librería de Python para análisis y manipulación de datos, construida sobre NumPy. Es ideal para trabajar con datos tabulares, como hojas de cálculo o bases de datos."
   ]
  },
  {
   "cell_type": "code",
   "execution_count": null,
   "id": "fc543579",
   "metadata": {},
   "outputs": [],
   "source": [
    "import pandas as pd\n",
    "import numpy as np\n",
    "\n",
    "# Ver la versión de Pandas\n",
    "print(\"Versión de Pandas:\", pd.__version__)"
   ]
  },
  {
   "cell_type": "markdown",
   "id": "12c38751",
   "metadata": {},
   "source": [
    "Una Series es un arreglo unidimensional con índices, y un DataFrame es una tabla bidimensional con filas y columnas."
   ]
  },
  {
   "cell_type": "code",
   "execution_count": null,
   "id": "d5ad9647",
   "metadata": {},
   "outputs": [],
   "source": [
    "# Crear una Series\n",
    "notas = pd.Series([85, 90, 78, 92], index=[\"Ana\", \"Bob\", \"Clara\", \"David\"])\n",
    "print(\"Series de notas:\\n\")\n",
    "print(notas)\n",
    "\n",
    "# Crear un DataFrame\n",
    "datos = {\n",
    "    \"Nombre\": [\"Ana\", \"Bob\", \"Clara\", \"David\"],\n",
    "    \"Edad\": [20, 22, 19, 21],\n",
    "    \"Nota\": [85, 90, 78, 92]\n",
    "}\n",
    "df = pd.DataFrame(datos)\n",
    "print(\"\\nDataFrame:\\n\")\n",
    "print(df)"
   ]
  },
  {
   "cell_type": "markdown",
   "id": "fd2dcb48",
   "metadata": {},
   "source": [
    "Pandas ofrece métodos para inspeccionar datos rápidamente, como ver las primeras filas, obtener información sobre columnas y estadísticas básicas."
   ]
  },
  {
   "cell_type": "code",
   "execution_count": null,
   "id": "84b64157",
   "metadata": {},
   "outputs": [],
   "source": [
    "# Inspeccionar las primeras filas\n",
    "print(\"Primeras 2 filas:\\n\")\n",
    "print(df.head(2))\n",
    "\n",
    "# Información del DataFrame\n",
    "print(\"\\nInformación del DataFrame:\")\n",
    "df.info()\n",
    "\n",
    "# Estadísticas descriptivas\n",
    "print(\"\\nEstadísticas descriptivas:\\n\")\n",
    "print(df.describe())"
   ]
  },
  {
   "cell_type": "markdown",
   "id": "398e5450",
   "metadata": {},
   "source": [
    "Podemos filtrar filas, seleccionar columnas y usar condiciones lógicas para extraer subconjuntos de datos."
   ]
  },
  {
   "cell_type": "code",
   "execution_count": null,
   "id": "30fb33a4",
   "metadata": {},
   "outputs": [],
   "source": [
    "# Seleccionar una columna\n",
    "print(\"Columna 'Nota':\\n\")\n",
    "print(df[\"Nota\"])\n",
    "\n",
    "# Filtrar filas donde Edad > 20\n",
    "print(\"\\nEstudiantes con edad > 20:\\n\")\n",
    "print(df[df[\"Edad\"] > 20])\n",
    "\n",
    "# Seleccionar filas y columnas específicas con loc\n",
    "print(\"\\nNombres y notas con loc:\\n\")\n",
    "print(df.loc[:, [\"Nombre\", \"Nota\"]])\n",
    "\n",
    "# Seleccionar por posición con iloc\n",
    "print(\"\\nPrimeras 2 filas, primeras 2 columnas con iloc:\\n\")\n",
    "print(df.iloc[:2, :2])"
   ]
  },
  {
   "cell_type": "markdown",
   "id": "85c5ed3a",
   "metadata": {},
   "source": [
    "Pandas permite modificar datos, como agregar columnas, manejar valores nulos y realizar operaciones."
   ]
  },
  {
   "cell_type": "code",
   "execution_count": null,
   "id": "514fcc13",
   "metadata": {},
   "outputs": [],
   "source": [
    "# Agregar una columna calculada\n",
    "df[\"Nota_Ajustada\"] = df[\"Nota\"] * 1.1\n",
    "print(\"DataFrame con columna ajustada:\\n\")\n",
    "print(df)\n",
    "\n",
    "# Manejar valores nulos\n",
    "df_con_nulos = df.copy()\n",
    "df_con_nulos.loc[1, \"Nota\"] = np.nan\n",
    "print(\"\\nDataFrame con nulos:\\n\")\n",
    "print(df_con_nulos)\n",
    "\n",
    "# Rellenar nulos con la media\n",
    "df_con_nulos[\"Nota\"] = df_con_nulos[\"Nota\"].fillna(df_con_nulos[\"Nota\"].mean())\n",
    "print(\"\\nDataFrame con nulos rellenados:\\n\")\n",
    "print(df_con_nulos)"
   ]
  },
  {
   "cell_type": "markdown",
   "id": "fc502493",
   "metadata": {},
   "source": [
    "Podemos agrupar datos por una columna y calcular estadísticas, útil para análisis exploratorio."
   ]
  },
  {
   "cell_type": "code",
   "execution_count": null,
   "id": "9fe71f81",
   "metadata": {},
   "outputs": [],
   "source": [
    "# Crear un DataFrame con más datos\n",
    "datos_grupo = {\n",
    "    \"Nombre\": [\"Ana\", \"Bob\", \"Clara\", \"David\", \"Emma\", \"Frank\"],\n",
    "    \"Grupo\": [\"A\", \"B\", \"A\", \"B\", \"A\", \"B\"],\n",
    "    \"Nota\": [85, 90, 78, 92, 88, 76],\n",
    "}\n",
    "df_grupo = pd.DataFrame(datos_grupo)\n",
    "\n",
    "# Agrupar por 'Grupo' y calcular la media de notas\n",
    "print(\"Media de notas por grupo:\\n\", df_grupo.groupby(\"Grupo\")[\"Nota\"].mean())"
   ]
  },
  {
   "cell_type": "markdown",
   "id": "df4c1368",
   "metadata": {},
   "source": [
    "Series de tiempo en Pandas"
   ]
  },
  {
   "cell_type": "code",
   "execution_count": null,
   "id": "2e0e64b7",
   "metadata": {},
   "outputs": [],
   "source": [
    "# Podríamos preguntarle a la IA: ¿Cómo genero un Dataframe cuyo index sea el tiempo? Hacer un ejemplo con datos diarios durante un año\n",
    "\n",
    "\n",
    "\n"
   ]
  },
  {
   "cell_type": "code",
   "execution_count": null,
   "id": "b78dfbcd",
   "metadata": {},
   "outputs": [],
   "source": [
    "# Podríamos preguntarle a la IA: ¿Cómo puedo calcular la suma y la media mensual de mis datos?\n",
    "\n",
    "\n",
    "\n"
   ]
  }
 ],
 "metadata": {
  "kernelspec": {
   "display_name": "work_3_11",
   "language": "python",
   "name": "python3"
  },
  "language_info": {
   "codemirror_mode": {
    "name": "ipython",
    "version": 3
   },
   "file_extension": ".py",
   "mimetype": "text/x-python",
   "name": "python",
   "nbconvert_exporter": "python",
   "pygments_lexer": "ipython3",
   "version": "3.11.11"
  }
 },
 "nbformat": 4,
 "nbformat_minor": 5
}
