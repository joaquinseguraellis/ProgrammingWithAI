{
 "cells": [
  {
   "cell_type": "markdown",
   "id": "4033dddb",
   "metadata": {},
   "source": [
    "# Librerías útiles para el análisis de datos\n",
    "La idea es mostrar las librerías que son necesarias para el análisis de series temporales y espaciales."
   ]
  },
  {
   "cell_type": "markdown",
   "id": "f3bd3f17",
   "metadata": {},
   "source": [
    "## 1. Instalación de las librerías"
   ]
  },
  {
   "cell_type": "code",
   "execution_count": 1,
   "id": "3ee4130f",
   "metadata": {},
   "outputs": [
    {
     "name": "stdout",
     "output_type": "stream",
     "text": [
      "Collecting pandas\n",
      "  Downloading pandas-2.3.3-cp312-cp312-win_amd64.whl.metadata (19 kB)\n",
      "Collecting numpy\n",
      "  Downloading numpy-2.3.4-cp312-cp312-win_amd64.whl.metadata (60 kB)\n",
      "Requirement already satisfied: python-dateutil>=2.8.2 in c:\\users\\joako\\miniconda3\\envs\\example\\lib\\site-packages (from pandas) (2.9.0.post0)\n",
      "Collecting pytz>=2020.1 (from pandas)\n",
      "  Using cached pytz-2025.2-py2.py3-none-any.whl.metadata (22 kB)\n",
      "Collecting tzdata>=2022.7 (from pandas)\n",
      "  Using cached tzdata-2025.2-py2.py3-none-any.whl.metadata (1.4 kB)\n",
      "Requirement already satisfied: six>=1.5 in c:\\users\\joako\\miniconda3\\envs\\example\\lib\\site-packages (from python-dateutil>=2.8.2->pandas) (1.17.0)\n",
      "Downloading pandas-2.3.3-cp312-cp312-win_amd64.whl (11.0 MB)\n",
      "   ---------------------------------------- 0.0/11.0 MB ? eta -:--:--\n",
      "   ------ --------------------------------- 1.8/11.0 MB 11.2 MB/s eta 0:00:01\n",
      "   ------------- -------------------------- 3.7/11.0 MB 8.7 MB/s eta 0:00:01\n",
      "   ------------------ --------------------- 5.0/11.0 MB 8.2 MB/s eta 0:00:01\n",
      "   -------------------------- ------------- 7.3/11.0 MB 8.7 MB/s eta 0:00:01\n",
      "   ----------------------------------- ---- 9.7/11.0 MB 9.3 MB/s eta 0:00:01\n",
      "   ---------------------------------------- 11.0/11.0 MB 9.3 MB/s  0:00:01\n",
      "Downloading numpy-2.3.4-cp312-cp312-win_amd64.whl (12.8 MB)\n",
      "   ---------------------------------------- 0.0/12.8 MB ? eta -:--:--\n",
      "   --------- ------------------------------ 2.9/12.8 MB 13.9 MB/s eta 0:00:01\n",
      "   ------------------ --------------------- 5.8/12.8 MB 14.1 MB/s eta 0:00:01\n",
      "   ------------------------- -------------- 8.1/12.8 MB 12.9 MB/s eta 0:00:01\n",
      "   ----------------------------------- ---- 11.3/12.8 MB 13.3 MB/s eta 0:00:01\n",
      "   ---------------------------------------- 12.8/12.8 MB 12.5 MB/s  0:00:01\n",
      "Using cached pytz-2025.2-py2.py3-none-any.whl (509 kB)\n",
      "Using cached tzdata-2025.2-py2.py3-none-any.whl (347 kB)\n",
      "Installing collected packages: pytz, tzdata, numpy, pandas\n",
      "\n",
      "   ---------------------------------------- 0/4 [pytz]\n",
      "   ---------------------------------------- 0/4 [pytz]\n",
      "   ---------------------------------------- 0/4 [pytz]\n",
      "   ---------- ----------------------------- 1/4 [tzdata]\n",
      "   ---------- ----------------------------- 1/4 [tzdata]\n",
      "   ---------- ----------------------------- 1/4 [tzdata]\n",
      "   ---------- ----------------------------- 1/4 [tzdata]\n",
      "   -------------------- ------------------- 2/4 [numpy]\n",
      "   -------------------- ------------------- 2/4 [numpy]\n",
      "   -------------------- ------------------- 2/4 [numpy]\n",
      "   -------------------- ------------------- 2/4 [numpy]\n",
      "   -------------------- ------------------- 2/4 [numpy]\n",
      "   -------------------- ------------------- 2/4 [numpy]\n",
      "   -------------------- ------------------- 2/4 [numpy]\n",
      "   -------------------- ------------------- 2/4 [numpy]\n",
      "   -------------------- ------------------- 2/4 [numpy]\n",
      "   -------------------- ------------------- 2/4 [numpy]\n",
      "   -------------------- ------------------- 2/4 [numpy]\n",
      "   -------------------- ------------------- 2/4 [numpy]\n",
      "   -------------------- ------------------- 2/4 [numpy]\n",
      "   -------------------- ------------------- 2/4 [numpy]\n",
      "   -------------------- ------------------- 2/4 [numpy]\n",
      "   -------------------- ------------------- 2/4 [numpy]\n",
      "   -------------------- ------------------- 2/4 [numpy]\n",
      "   -------------------- ------------------- 2/4 [numpy]\n",
      "   -------------------- ------------------- 2/4 [numpy]\n",
      "   -------------------- ------------------- 2/4 [numpy]\n",
      "   -------------------- ------------------- 2/4 [numpy]\n",
      "   -------------------- ------------------- 2/4 [numpy]\n",
      "   -------------------- ------------------- 2/4 [numpy]\n",
      "   -------------------- ------------------- 2/4 [numpy]\n",
      "   -------------------- ------------------- 2/4 [numpy]\n",
      "   -------------------- ------------------- 2/4 [numpy]\n",
      "   -------------------- ------------------- 2/4 [numpy]\n",
      "   ------------------------------ --------- 3/4 [pandas]\n",
      "   ------------------------------ --------- 3/4 [pandas]\n",
      "   ------------------------------ --------- 3/4 [pandas]\n",
      "   ------------------------------ --------- 3/4 [pandas]\n",
      "   ------------------------------ --------- 3/4 [pandas]\n",
      "   ------------------------------ --------- 3/4 [pandas]\n",
      "   ------------------------------ --------- 3/4 [pandas]\n",
      "   ------------------------------ --------- 3/4 [pandas]\n",
      "   ------------------------------ --------- 3/4 [pandas]\n",
      "   ------------------------------ --------- 3/4 [pandas]\n",
      "   ------------------------------ --------- 3/4 [pandas]\n",
      "   ------------------------------ --------- 3/4 [pandas]\n",
      "   ------------------------------ --------- 3/4 [pandas]\n",
      "   ------------------------------ --------- 3/4 [pandas]\n",
      "   ------------------------------ --------- 3/4 [pandas]\n",
      "   ------------------------------ --------- 3/4 [pandas]\n",
      "   ------------------------------ --------- 3/4 [pandas]\n",
      "   ------------------------------ --------- 3/4 [pandas]\n",
      "   ------------------------------ --------- 3/4 [pandas]\n",
      "   ------------------------------ --------- 3/4 [pandas]\n",
      "   ------------------------------ --------- 3/4 [pandas]\n",
      "   ------------------------------ --------- 3/4 [pandas]\n",
      "   ------------------------------ --------- 3/4 [pandas]\n",
      "   ------------------------------ --------- 3/4 [pandas]\n",
      "   ------------------------------ --------- 3/4 [pandas]\n",
      "   ------------------------------ --------- 3/4 [pandas]\n",
      "   ------------------------------ --------- 3/4 [pandas]\n",
      "   ------------------------------ --------- 3/4 [pandas]\n",
      "   ------------------------------ --------- 3/4 [pandas]\n",
      "   ------------------------------ --------- 3/4 [pandas]\n",
      "   ------------------------------ --------- 3/4 [pandas]\n",
      "   ------------------------------ --------- 3/4 [pandas]\n",
      "   ------------------------------ --------- 3/4 [pandas]\n",
      "   ------------------------------ --------- 3/4 [pandas]\n",
      "   ------------------------------ --------- 3/4 [pandas]\n",
      "   ------------------------------ --------- 3/4 [pandas]\n",
      "   ------------------------------ --------- 3/4 [pandas]\n",
      "   ------------------------------ --------- 3/4 [pandas]\n",
      "   ------------------------------ --------- 3/4 [pandas]\n",
      "   ------------------------------ --------- 3/4 [pandas]\n",
      "   ------------------------------ --------- 3/4 [pandas]\n",
      "   ------------------------------ --------- 3/4 [pandas]\n",
      "   ------------------------------ --------- 3/4 [pandas]\n",
      "   ------------------------------ --------- 3/4 [pandas]\n",
      "   ------------------------------ --------- 3/4 [pandas]\n",
      "   ------------------------------ --------- 3/4 [pandas]\n",
      "   ------------------------------ --------- 3/4 [pandas]\n",
      "   ------------------------------ --------- 3/4 [pandas]\n",
      "   ------------------------------ --------- 3/4 [pandas]\n",
      "   ------------------------------ --------- 3/4 [pandas]\n",
      "   ------------------------------ --------- 3/4 [pandas]\n",
      "   ------------------------------ --------- 3/4 [pandas]\n",
      "   ------------------------------ --------- 3/4 [pandas]\n",
      "   ------------------------------ --------- 3/4 [pandas]\n",
      "   ------------------------------ --------- 3/4 [pandas]\n",
      "   ------------------------------ --------- 3/4 [pandas]\n",
      "   ------------------------------ --------- 3/4 [pandas]\n",
      "   ------------------------------ --------- 3/4 [pandas]\n",
      "   ------------------------------ --------- 3/4 [pandas]\n",
      "   ------------------------------ --------- 3/4 [pandas]\n",
      "   ------------------------------ --------- 3/4 [pandas]\n",
      "   ------------------------------ --------- 3/4 [pandas]\n",
      "   ---------------------------------------- 4/4 [pandas]\n",
      "\n",
      "Successfully installed numpy-2.3.4 pandas-2.3.3 pytz-2025.2 tzdata-2025.2\n",
      "Note: you may need to restart the kernel to use updated packages.\n"
     ]
    }
   ],
   "source": [
    "pip install pandas numpy"
   ]
  },
  {
   "cell_type": "markdown",
   "id": "35b7130f",
   "metadata": {},
   "source": [
    "## 2. Importar las librerías\n",
    "Para importar una librería utilizamos la palabra reservada \"import\" seguida del nombre de la librería. Podemos asignarle una abreviación a la librería, por ejemplo, \"import pandas as pd\"."
   ]
  },
  {
   "cell_type": "markdown",
   "id": "425e5cba",
   "metadata": {},
   "source": [
    "## 3. Numpy\n",
    "\n",
    "NumPy es una librería fundamental para el análisis de datos en Python. Proporciona arreglos multidimensionales (arrays) y funciones matemáticas optimizadas para trabajar con datos numéricos. Es la base para otras librerías como Pandas y Matplotlib."
   ]
  },
  {
   "cell_type": "code",
   "execution_count": 2,
   "id": "5cb98e5f",
   "metadata": {},
   "outputs": [
    {
     "name": "stdout",
     "output_type": "stream",
     "text": [
      "Versión de NumPy: 2.3.4\n"
     ]
    }
   ],
   "source": [
    "import numpy as np\n",
    "\n",
    "print(\"Versión de NumPy:\", np.__version__)"
   ]
  },
  {
   "cell_type": "markdown",
   "id": "24a80cc2",
   "metadata": {},
   "source": [
    "### Creando Arreglos en NumPy\n",
    "\n",
    "Los arreglos de NumPy (`ndarray`) son similares a las listas de Python, pero más eficientes para cálculos numéricos. Podemos crear arreglos de varias formas:\n",
    "- A partir de una lista.\n",
    "- Con funciones integradas como `zeros`, `ones`, o `arange`."
   ]
  },
  {
   "cell_type": "code",
   "execution_count": 3,
   "id": "47df4ce0",
   "metadata": {},
   "outputs": [
    {
     "name": "stdout",
     "output_type": "stream",
     "text": [
      "Arreglo desde lista: [1 2 3 4]\n",
      "\n",
      "Arreglo de ceros: [0. 0. 0.]\n",
      "\n",
      "Matriz de unos (2x3):\n",
      " [[1. 1. 1.]\n",
      " [1. 1. 1.]]\n",
      "\n",
      "Arreglo con rango: [0 2 4 6 8]\n",
      "\n",
      "Valores espaciados: [0.   0.25 0.5  0.75 1.  ]\n"
     ]
    }
   ],
   "source": [
    "# Crear un arreglo desde una lista\n",
    "lista = [1, 2, 3, 4]\n",
    "arreglo = np.array(lista)\n",
    "print(\"Arreglo desde lista:\", arreglo)\n",
    "\n",
    "# Arreglo de ceros (3 elementos)\n",
    "ceros = np.zeros(3)\n",
    "print(\"\\nArreglo de ceros:\", ceros)\n",
    "\n",
    "# Arreglo de unos (2x3)\n",
    "unos = np.ones((2, 3))\n",
    "print(\"\\nMatriz de unos (2x3):\\n\", unos)\n",
    "\n",
    "# Arreglo con rango de valores\n",
    "rango = np.arange(0, 10, 2)  # de 0 a 9, paso de 2\n",
    "print(\"\\nArreglo con rango:\", rango)\n",
    "\n",
    "# Arreglo con valores espaciados uniformemente\n",
    "lineal = np.linspace(0, 1, 5)  # 5 valores entre 0 y 1\n",
    "print(\"\\nValores espaciados:\", lineal)"
   ]
  },
  {
   "cell_type": "markdown",
   "id": "e312a786",
   "metadata": {},
   "source": [
    "### Propiedades de los Arreglos\n",
    "\n",
    "Los arreglos de NumPy tienen propiedades útiles:\n",
    "- `shape`: Forma del arreglo (dimensiones).\n",
    "- `size`: Número total de elementos.\n",
    "- `dtype`: Tipo de datos de los elementos."
   ]
  },
  {
   "cell_type": "code",
   "execution_count": 4,
   "id": "81bc38b4",
   "metadata": {},
   "outputs": [
    {
     "name": "stdout",
     "output_type": "stream",
     "text": [
      "Matriz:\n",
      " [[1 2 3]\n",
      " [4 5 6]]\n",
      "Forma (shape): (2, 3)\n",
      "Tamaño (size): 6\n",
      "Tipo de datos (dtype): int64\n"
     ]
    }
   ],
   "source": [
    "# Crear un arreglo 2D\n",
    "matriz = np.array([[1, 2, 3], [4, 5, 6]])\n",
    "print(\"Matriz:\\n\", matriz)\n",
    "\n",
    "# Propiedades\n",
    "print(\"Forma (shape):\", matriz.shape)\n",
    "print(\"Tamaño (size):\", matriz.size)\n",
    "print(\"Tipo de datos (dtype):\", matriz.dtype)"
   ]
  },
  {
   "cell_type": "markdown",
   "id": "c8a46e8b",
   "metadata": {},
   "source": [
    "### Operaciones Básicas con Arreglos\n",
    "\n",
    "NumPy permite realizar operaciones matemáticas elemento a elemento de manera eficiente, sin necesidad de bucles explícitos. Esto es ideal para análisis de datos."
   ]
  },
  {
   "cell_type": "code",
   "execution_count": 6,
   "id": "27aac154",
   "metadata": {},
   "outputs": [
    {
     "name": "stdout",
     "output_type": "stream",
     "text": [
      "Suma: [5 7 9]\n",
      "\n",
      "Resta: [-3 -3 -3]\n",
      "\n",
      "Multiplicación: [ 4 10 18]\n",
      "\n",
      "División: [0.25 0.4  0.5 ]\n",
      "\n",
      "Multiplicación por escalar: [2 4 6]\n",
      "\n",
      "Cuadrado de a: [1 4 9]\n"
     ]
    }
   ],
   "source": [
    "# Crear dos arreglos\n",
    "a = np.array([1, 2, 3])\n",
    "b = np.array([4, 5, 6])\n",
    "\n",
    "# Operaciones elemento a elemento\n",
    "suma = a + b\n",
    "print(\"Suma:\", suma)\n",
    "\n",
    "resta = a - b\n",
    "print(\"\\nResta:\", resta)\n",
    "\n",
    "multiplicacion = a * b\n",
    "print(\"\\nMultiplicación:\", multiplicacion)\n",
    "\n",
    "division = a / b\n",
    "print(\"\\nDivisión:\", division)\n",
    "\n",
    "# Operaciones con escalares\n",
    "escalar = a * 2\n",
    "print(\"\\nMultiplicación por escalar:\", escalar)\n",
    "\n",
    "# Funciones matemáticas\n",
    "cuadrado = np.square(a)\n",
    "print(\"\\nCuadrado de a:\", cuadrado)"
   ]
  },
  {
   "cell_type": "code",
   "execution_count": 7,
   "id": "d347573f",
   "metadata": {},
   "outputs": [
    {
     "name": "stdout",
     "output_type": "stream",
     "text": [
      "\n",
      "Elementos mayores que 2: [False False  True  True]\n",
      "\n",
      "Multi vs Suma: [False False  True False]\n",
      "\n",
      "arr_1 = [ True False False  True]\n",
      "arr_2 = [ True  True False False]\n",
      "\n",
      "\tAnd: [ True False False False]\n",
      "\n",
      "\tOr: [ True  True False  True]\n",
      "\n",
      "\tNot arr_1: [False  True  True False]\n",
      "\n",
      "\tAll: False\n",
      "\n",
      "\tAny: True\n"
     ]
    }
   ],
   "source": [
    "# Operaciones lógicas\n",
    "arr_1 = np.array([1, 2, 3, 4])\n",
    "arr_2 = np.array([0, 1, 3, 5])\n",
    "print(\"\\nElementos mayores que 2:\", arr_1 > 2)\n",
    "print('\\nMulti vs Suma:', arr_1 == arr_2)\n",
    "\n",
    "arr_1 = np.array([True, False, False, True])\n",
    "arr_2 = np.array([True, True, False, False])\n",
    "print('\\narr_1 =', arr_1)\n",
    "print('arr_2 =', arr_2)\n",
    "print('\\n\\tAnd:', arr_1 & arr_2)\n",
    "print('\\n\\tOr:', arr_1 | arr_2)\n",
    "print('\\n\\tNot arr_1:', ~arr_1)\n",
    "print('\\n\\tAll:', np.all(arr_1))\n",
    "print('\\n\\tAny:', np.any(arr_1))"
   ]
  },
  {
   "cell_type": "markdown",
   "id": "b17737ee",
   "metadata": {},
   "source": [
    "### Indexación y Segmentación\n",
    "\n",
    "Podemos acceder a elementos específicos de un arreglo o extraer subarreglos usando índices y segmentación, similar a las listas de Python."
   ]
  },
  {
   "cell_type": "code",
   "execution_count": 8,
   "id": "c2d05af8",
   "metadata": {},
   "outputs": [
    {
     "name": "stdout",
     "output_type": "stream",
     "text": [
      "Arreglo: [10 20 30 40 50]\n",
      "\n",
      "Elemento en índice 2: 30\n",
      "\n",
      "Elementos del índice 1 al 3: [20 30 40]\n",
      "\n",
      "Matriz:\n",
      " [[1 2 3]\n",
      " [4 5 6]\n",
      " [7 8 9]]\n",
      "\n",
      "Elemento [1,2]: 6\n",
      "\n",
      "Fila 1: [4 5 6]\n",
      "\n",
      "Columna 0: [1 4 7]\n"
     ]
    }
   ],
   "source": [
    "# Arreglo 1D\n",
    "arr = np.array([10, 20, 30, 40, 50])\n",
    "print(\"Arreglo:\", arr)\n",
    "\n",
    "# Acceder a un elemento\n",
    "print(\"\\nElemento en índice 2:\", arr[2])\n",
    "\n",
    "# Segmentación\n",
    "print(\"\\nElementos del índice 1 al 3:\", arr[1:4])\n",
    "\n",
    "# Arreglo 2D\n",
    "matriz = np.array([[1, 2, 3], [4, 5, 6], [7, 8, 9]])\n",
    "print(\"\\nMatriz:\\n\", matriz)\n",
    "\n",
    "# Acceder a un elemento (fila 1, columna 2)\n",
    "print(\"\\nElemento [1,2]:\", matriz[1, 2])\n",
    "\n",
    "# Extraer una fila\n",
    "print(\"\\nFila 1:\", matriz[1, :])\n",
    "\n",
    "# Extraer una columna\n",
    "print(\"\\nColumna 0:\", matriz[:, 0])"
   ]
  },
  {
   "cell_type": "markdown",
   "id": "3bb0bd2f",
   "metadata": {},
   "source": [
    "### Operaciones Estadísticas\n",
    "\n",
    "NumPy ofrece funciones para cálculos estadísticos, esenciales para el análisis de datos."
   ]
  },
  {
   "cell_type": "code",
   "execution_count": 9,
   "id": "ba065f15",
   "metadata": {},
   "outputs": [
    {
     "name": "stdout",
     "output_type": "stream",
     "text": [
      "Estadísticos básicos:\n",
      "--------------------\n",
      "Count          : 7.0000\n",
      "Mean           : 3.7286\n",
      "Median         : 3.2000\n",
      "Std            : 1.8022\n",
      "Var            : 3.2478\n",
      "Min            : 1.5000\n",
      "Max            : 6.4000\n",
      "Sum            : 26.1000\n",
      "Prod           : 4114.5108\n",
      "Percentile 25  : 2.2000\n",
      "Percentile 75  : 5.3000\n"
     ]
    }
   ],
   "source": [
    "# Podríamos preguntarle a la IA: ¿Cómo se calculan los estadísticos básicos de un ndarray?\n",
    "\n",
    "\n",
    "\n",
    "import numpy as np\n",
    "from typing import Union, Tuple\n",
    "\n",
    "def calculate_basic_statistics(arr: np.ndarray) -> dict[str, Union[float, int]]:\n",
    "    \"\"\"\n",
    "    Calcula estadísticos básicos de un ndarray de NumPy.\n",
    "\n",
    "    Args:\n",
    "        arr (np.ndarray): Arreglo de NumPy del cual calcular estadísticos.\n",
    "\n",
    "    Returns:\n",
    "        dict[str, Union[float, int]]: Diccionario con los estadísticos calculados.\n",
    "\n",
    "    Raises:\n",
    "        ValueError: Si el arreglo está vacío o contiene solo valores NaN.\n",
    "    \"\"\"\n",
    "    # Validar que el arreglo no esté vacío\n",
    "    if arr.size == 0:\n",
    "        raise ValueError(\"El arreglo está vacío\")\n",
    "\n",
    "    # Crear diccionario para almacenar resultados\n",
    "    stats = {}\n",
    "\n",
    "    # Calcular estadísticos básicos\n",
    "    stats[\"count\"] = np.count_nonzero(~np.isnan(arr))  # Conteo de elementos no nulos\n",
    "    stats[\"mean\"] = np.nanmean(arr)  # Media, ignorando NaN\n",
    "    stats[\"median\"] = np.nanmedian(arr)  # Mediana, ignorando NaN\n",
    "    stats[\"std\"] = np.nanstd(arr)  # Desviación estándar, ignorando NaN\n",
    "    stats[\"var\"] = np.nanvar(arr)  # Varianza, ignorando NaN\n",
    "    stats[\"min\"] = np.nanmin(arr)  # Mínimo, ignorando NaN\n",
    "    stats[\"max\"] = np.nanmax(arr)  # Máximo, ignorando NaN\n",
    "    stats[\"sum\"] = np.nansum(arr)  # Suma, ignorando NaN\n",
    "    stats[\"prod\"] = np.nanprod(arr)  # Producto, ignorando NaN\n",
    "    stats[\"percentile_25\"] = np.nanpercentile(arr, 25)  # Percentil 25\n",
    "    stats[\"percentile_75\"] = np.nanpercentile(arr, 75)  # Percentil 75\n",
    "\n",
    "    return stats\n",
    "\n",
    "def print_statistics(stats: dict[str, Union[float, int]]) -> None:\n",
    "    \"\"\"\n",
    "    Imprime los estadísticos calculados de forma formateada.\n",
    "\n",
    "    Args:\n",
    "        stats (dict[str, Union[float, int]]): Diccionario con estadísticos.\n",
    "    \"\"\"\n",
    "    print(\"Estadísticos básicos:\")\n",
    "    print(\"-\" * 20)\n",
    "    for key, value in stats.items():\n",
    "        print(f\"{key.replace('_', ' ').title():<15}: {value:.4f}\")\n",
    "\n",
    "def main():\n",
    "    \"\"\"Función principal para demostrar el cálculo de estadísticos.\"\"\"\n",
    "    # Crear un arreglo de ejemplo con algunos NaN\n",
    "    data = np.array([1.5, 2.3, np.nan, 4.7, 3.2, 5.9, 2.1, np.nan, 6.4])\n",
    "\n",
    "    try:\n",
    "        # Calcular estadísticos\n",
    "        stats = calculate_basic_statistics(data)\n",
    "        \n",
    "        # Imprimir resultados\n",
    "        print_statistics(stats)\n",
    "        \n",
    "    except ValueError as e:\n",
    "        print(f\"Error: {e}\")\n",
    "\n",
    "if __name__ == \"__main__\":\n",
    "    main()"
   ]
  },
  {
   "cell_type": "code",
   "execution_count": null,
   "id": "aeda3efd",
   "metadata": {},
   "outputs": [],
   "source": [
    "pip install scipy"
   ]
  },
  {
   "cell_type": "markdown",
   "id": "2f321342",
   "metadata": {},
   "source": [
    "### Reshape y Concatenación\n",
    "\n",
    "Podemos cambiar la forma de un arreglo (`reshape`) o combinar múltiples arreglos, lo cual es útil para preparar datos para análisis."
   ]
  },
  {
   "cell_type": "code",
   "execution_count": null,
   "id": "8a2f82e2",
   "metadata": {},
   "outputs": [],
   "source": [
    "# Podríamos preguntarle a la IA: ¿Cómo cambiamos la forma de un ndarray y cómo podemos unir varios ndarray?\n",
    "\n",
    "\n",
    "\n"
   ]
  },
  {
   "cell_type": "markdown",
   "id": "7565d2a3",
   "metadata": {},
   "source": []
  },
  {
   "cell_type": "code",
   "execution_count": null,
   "id": "e603e671",
   "metadata": {},
   "outputs": [],
   "source": []
  },
  {
   "cell_type": "markdown",
   "id": "006489c6",
   "metadata": {},
   "source": [
    "## 4. Scipy\n",
    "\n",
    "SciPy es una librería de Python que extiende las capacidades de NumPy para cálculos científicos y análisis de datos. Proporciona herramientas para estadística, optimización, integración numérica, álgebra lineal, entre otros."
   ]
  },
  {
   "cell_type": "code",
   "execution_count": null,
   "id": "83a4ed4f",
   "metadata": {},
   "outputs": [],
   "source": [
    "import scipy\n",
    "\n",
    "import numpy as np\n",
    "\n",
    "from scipy import stats, optimize, integrate\n",
    "\n",
    "print(\"Versión de SciPy:\", scipy.__version__)"
   ]
  },
  {
   "cell_type": "markdown",
   "id": "47fd2b09",
   "metadata": {},
   "source": [
    "El módulo scipy.stats ofrece herramientas para análisis estadístico, como pruebas de hipótesis, distribuciones y cálculos de probabilidad."
   ]
  },
  {
   "cell_type": "code",
   "execution_count": null,
   "id": "e11296ba",
   "metadata": {},
   "outputs": [],
   "source": [
    "# Generar datos de ejemplo (notas de estudiantes)\n",
    "notas = np.array([85, 90, 78, 92, 88, 76, 95, 89])\n",
    "\n",
    "# Estadísticas descriptivas\n",
    "media = stats.describe(notas).mean\n",
    "varianza = stats.describe(notas).variance\n",
    "print(\"Media de las notas:\", media)\n",
    "print(\"Varianza de las notas:\", varianza)\n",
    "\n",
    "# Prueba de normalidad (Shapiro-Wilk)\n",
    "# ¿Son las notas normalmente distribuidas?\n",
    "stat, p_valor = stats.shapiro(notas)\n",
    "print(\"Prueba de normalidad (p-valor):\", p_valor)\n",
    "print(\"Si p > 0.05, los datos parecen normales.\")"
   ]
  },
  {
   "cell_type": "markdown",
   "id": "506046f0",
   "metadata": {},
   "source": [
    "El módulo scipy.optimize permite encontrar mínimos o raíces de funciones."
   ]
  },
  {
   "cell_type": "code",
   "execution_count": null,
   "id": "b2b8eabb",
   "metadata": {},
   "outputs": [],
   "source": [
    "# Definir una función cuadrática: f(x) = x^2 + 2x + 1\n",
    "def funcion_cuadratica(x):\n",
    "    return x**2 + 2*x + 1\n",
    "\n",
    "# Encontrar el mínimo\n",
    "resultado = optimize.minimize_scalar(funcion_cuadratica)\n",
    "print(\"Mínimo de la función en x =\", resultado.x)\n",
    "print(\"Valor de la función en el mínimo:\", resultado.fun)\n",
    "\n",
    "# Ejemplo: Ajuste de una curva\n",
    "# Datos de ejemplo\n",
    "x_datos = np.array([0, 1, 2, 3, 4])\n",
    "y_datos = np.array([1.1, 2.9, 5.2, 6.8, 9.1])\n",
    "\n",
    "# Definir modelo lineal: y = mx + b\n",
    "def modelo_lineal(x, m, b):\n",
    "    return m * x + b\n",
    "\n",
    "# Ajustar el modelo a los datos\n",
    "parametros, _ = optimize.curve_fit(modelo_lineal, x_datos, y_datos)\n",
    "print(\"Parámetros ajustados (m, b):\", parametros)"
   ]
  },
  {
   "cell_type": "markdown",
   "id": "748e1798",
   "metadata": {},
   "source": [
    "El módulo scipy.integrate permite calcular integrales numéricas."
   ]
  },
  {
   "cell_type": "code",
   "execution_count": null,
   "id": "647a1216",
   "metadata": {},
   "outputs": [],
   "source": [
    "# Definir una función: f(x) = x^2 + 2\n",
    "def funcion(x):\n",
    "    return x**2 + 2\n",
    "\n",
    "# Calcular la integral definida de 0 a 3\n",
    "resultado, error = integrate.quad(funcion, 0, 3)\n",
    "print(\"Integral de x^2 + 2 de 0 a 3:\", resultado)\n",
    "print(\"Error estimado:\", error)\n",
    "\n",
    "# Ejemplo: Probabilidad en una distribución normal\n",
    "# Probabilidad entre -1 y 1 en una normal estándar\n",
    "prob, _ = integrate.quad(stats.norm.pdf, -1, 1)\n",
    "print(\"Probabilidad entre -1 y 1 (distribución normal):\", prob)"
   ]
  },
  {
   "cell_type": "markdown",
   "id": "82f9f06f",
   "metadata": {},
   "source": [
    "## 5. Pandas\n",
    "\n",
    "Pandas es una librería de Python para análisis y manipulación de datos, construida sobre NumPy. Es ideal para trabajar con datos tabulares, como hojas de cálculo o bases de datos."
   ]
  },
  {
   "cell_type": "code",
   "execution_count": 6,
   "id": "fc543579",
   "metadata": {},
   "outputs": [
    {
     "name": "stdout",
     "output_type": "stream",
     "text": [
      "Versión de Pandas: 2.3.3\n"
     ]
    }
   ],
   "source": [
    "import pandas as pd\n",
    "import numpy as np\n",
    "\n",
    "# Ver la versión de Pandas\n",
    "print(\"Versión de Pandas:\", pd.__version__)"
   ]
  },
  {
   "cell_type": "markdown",
   "id": "12c38751",
   "metadata": {},
   "source": [
    "Una Series es un arreglo unidimensional con índices, y un DataFrame es una tabla bidimensional con filas y columnas."
   ]
  },
  {
   "cell_type": "code",
   "execution_count": 8,
   "id": "d5ad9647",
   "metadata": {},
   "outputs": [
    {
     "name": "stdout",
     "output_type": "stream",
     "text": [
      "Series de notas:\n",
      "\n"
     ]
    },
    {
     "data": {
      "text/plain": [
       "Ana      85\n",
       "Bob      90\n",
       "Clara    78\n",
       "David    92\n",
       "dtype: int64"
      ]
     },
     "execution_count": 8,
     "metadata": {},
     "output_type": "execute_result"
    }
   ],
   "source": [
    "# Crear una Series\n",
    "notas = pd.Series([85, 90, 78, 92], index=[\"Ana\", \"Bob\", \"Clara\", \"David\"])\n",
    "print(\"Series de notas:\\n\")\n",
    "notas"
   ]
  },
  {
   "cell_type": "code",
   "execution_count": 9,
   "id": "8a2ea81b",
   "metadata": {},
   "outputs": [
    {
     "name": "stdout",
     "output_type": "stream",
     "text": [
      "\n",
      "DataFrame:\n",
      "\n"
     ]
    },
    {
     "data": {
      "text/html": [
       "<div>\n",
       "<style scoped>\n",
       "    .dataframe tbody tr th:only-of-type {\n",
       "        vertical-align: middle;\n",
       "    }\n",
       "\n",
       "    .dataframe tbody tr th {\n",
       "        vertical-align: top;\n",
       "    }\n",
       "\n",
       "    .dataframe thead th {\n",
       "        text-align: right;\n",
       "    }\n",
       "</style>\n",
       "<table border=\"1\" class=\"dataframe\">\n",
       "  <thead>\n",
       "    <tr style=\"text-align: right;\">\n",
       "      <th></th>\n",
       "      <th>Nombre</th>\n",
       "      <th>Edad</th>\n",
       "      <th>Nota</th>\n",
       "    </tr>\n",
       "  </thead>\n",
       "  <tbody>\n",
       "    <tr>\n",
       "      <th>0</th>\n",
       "      <td>Ana</td>\n",
       "      <td>20</td>\n",
       "      <td>85</td>\n",
       "    </tr>\n",
       "    <tr>\n",
       "      <th>1</th>\n",
       "      <td>Bob</td>\n",
       "      <td>22</td>\n",
       "      <td>90</td>\n",
       "    </tr>\n",
       "    <tr>\n",
       "      <th>2</th>\n",
       "      <td>Clara</td>\n",
       "      <td>19</td>\n",
       "      <td>78</td>\n",
       "    </tr>\n",
       "    <tr>\n",
       "      <th>3</th>\n",
       "      <td>David</td>\n",
       "      <td>21</td>\n",
       "      <td>92</td>\n",
       "    </tr>\n",
       "  </tbody>\n",
       "</table>\n",
       "</div>"
      ],
      "text/plain": [
       "  Nombre  Edad  Nota\n",
       "0    Ana    20    85\n",
       "1    Bob    22    90\n",
       "2  Clara    19    78\n",
       "3  David    21    92"
      ]
     },
     "execution_count": 9,
     "metadata": {},
     "output_type": "execute_result"
    }
   ],
   "source": [
    "# Crear un DataFrame\n",
    "datos = {\n",
    "    \"Nombre\": [\"Ana\", \"Bob\", \"Clara\", \"David\"],\n",
    "    \"Edad\": [20, 22, 19, 21],\n",
    "    \"Nota\": [85, 90, 78, 92]\n",
    "}\n",
    "df = pd.DataFrame(datos)\n",
    "print(\"\\nDataFrame:\\n\")\n",
    "df"
   ]
  },
  {
   "cell_type": "markdown",
   "id": "fd2dcb48",
   "metadata": {},
   "source": [
    "Pandas ofrece métodos para inspeccionar datos rápidamente, como ver las primeras filas, obtener información sobre columnas y estadísticas básicas."
   ]
  },
  {
   "cell_type": "code",
   "execution_count": 10,
   "id": "84b64157",
   "metadata": {},
   "outputs": [
    {
     "name": "stdout",
     "output_type": "stream",
     "text": [
      "Primeras 2 filas:\n",
      "\n",
      "  Nombre  Edad  Nota\n",
      "0    Ana    20    85\n",
      "1    Bob    22    90\n",
      "\n",
      "Información del DataFrame:\n",
      "<class 'pandas.core.frame.DataFrame'>\n",
      "RangeIndex: 4 entries, 0 to 3\n",
      "Data columns (total 3 columns):\n",
      " #   Column  Non-Null Count  Dtype \n",
      "---  ------  --------------  ----- \n",
      " 0   Nombre  4 non-null      object\n",
      " 1   Edad    4 non-null      int64 \n",
      " 2   Nota    4 non-null      int64 \n",
      "dtypes: int64(2), object(1)\n",
      "memory usage: 228.0+ bytes\n",
      "\n",
      "Estadísticas descriptivas:\n",
      "\n",
      "            Edad       Nota\n",
      "count   4.000000   4.000000\n",
      "mean   20.500000  86.250000\n",
      "std     1.290994   6.238322\n",
      "min    19.000000  78.000000\n",
      "25%    19.750000  83.250000\n",
      "50%    20.500000  87.500000\n",
      "75%    21.250000  90.500000\n",
      "max    22.000000  92.000000\n"
     ]
    }
   ],
   "source": [
    "# Inspeccionar las primeras filas\n",
    "print(\"Primeras 2 filas:\\n\")\n",
    "print(df.head(2))\n",
    "\n",
    "# Información del DataFrame\n",
    "print(\"\\nInformación del DataFrame:\")\n",
    "df.info()\n",
    "\n",
    "# Estadísticas descriptivas\n",
    "print(\"\\nEstadísticas descriptivas:\\n\")\n",
    "print(df.describe())"
   ]
  },
  {
   "cell_type": "markdown",
   "id": "398e5450",
   "metadata": {},
   "source": [
    "Podemos filtrar filas, seleccionar columnas y usar condiciones lógicas para extraer subconjuntos de datos."
   ]
  },
  {
   "cell_type": "code",
   "execution_count": 11,
   "id": "30fb33a4",
   "metadata": {},
   "outputs": [
    {
     "name": "stdout",
     "output_type": "stream",
     "text": [
      "Columna 'Nota':\n",
      "\n",
      "0    85\n",
      "1    90\n",
      "2    78\n",
      "3    92\n",
      "Name: Nota, dtype: int64\n",
      "\n",
      "Estudiantes con edad > 20:\n",
      "\n",
      "  Nombre  Edad  Nota\n",
      "1    Bob    22    90\n",
      "3  David    21    92\n",
      "\n",
      "Nombres y notas con loc:\n",
      "\n",
      "  Nombre  Nota\n",
      "0    Ana    85\n",
      "1    Bob    90\n",
      "2  Clara    78\n",
      "3  David    92\n",
      "\n",
      "Primeras 2 filas, primeras 2 columnas con iloc:\n",
      "\n",
      "  Nombre  Edad\n",
      "0    Ana    20\n",
      "1    Bob    22\n"
     ]
    }
   ],
   "source": [
    "# Seleccionar una columna\n",
    "print(\"Columna 'Nota':\\n\")\n",
    "print(df[\"Nota\"])\n",
    "\n",
    "# Filtrar filas donde Edad > 20\n",
    "print(\"\\nEstudiantes con edad > 20:\\n\")\n",
    "print(df[df[\"Edad\"] > 20])\n",
    "\n",
    "# Seleccionar filas y columnas específicas con loc\n",
    "print(\"\\nNombres y notas con loc:\\n\")\n",
    "print(df.loc[:, [\"Nombre\", \"Nota\"]])\n",
    "\n",
    "# Seleccionar por posición con iloc\n",
    "print(\"\\nPrimeras 2 filas, primeras 2 columnas con iloc:\\n\")\n",
    "print(df.iloc[:2, :2])"
   ]
  },
  {
   "cell_type": "markdown",
   "id": "85c5ed3a",
   "metadata": {},
   "source": [
    "Pandas permite modificar datos, como agregar columnas, manejar valores nulos y realizar operaciones."
   ]
  },
  {
   "cell_type": "code",
   "execution_count": 12,
   "id": "514fcc13",
   "metadata": {},
   "outputs": [
    {
     "name": "stdout",
     "output_type": "stream",
     "text": [
      "DataFrame con columna ajustada:\n",
      "\n",
      "  Nombre  Edad  Nota  Nota_Ajustada\n",
      "0    Ana    20    85           93.5\n",
      "1    Bob    22    90           99.0\n",
      "2  Clara    19    78           85.8\n",
      "3  David    21    92          101.2\n",
      "\n",
      "DataFrame con nulos:\n",
      "\n",
      "  Nombre  Edad  Nota  Nota_Ajustada\n",
      "0    Ana    20  85.0           93.5\n",
      "1    Bob    22   NaN           99.0\n",
      "2  Clara    19  78.0           85.8\n",
      "3  David    21  92.0          101.2\n",
      "\n",
      "DataFrame con nulos rellenados:\n",
      "\n",
      "  Nombre  Edad  Nota  Nota_Ajustada\n",
      "0    Ana    20  85.0           93.5\n",
      "1    Bob    22  85.0           99.0\n",
      "2  Clara    19  78.0           85.8\n",
      "3  David    21  92.0          101.2\n"
     ]
    }
   ],
   "source": [
    "# Agregar una columna calculada\n",
    "df[\"Nota_Ajustada\"] = df[\"Nota\"] * 1.1\n",
    "print(\"DataFrame con columna ajustada:\\n\")\n",
    "print(df)\n",
    "\n",
    "# Manejar valores nulos\n",
    "df_con_nulos = df.copy()\n",
    "df_con_nulos.loc[1, \"Nota\"] = np.nan\n",
    "print(\"\\nDataFrame con nulos:\\n\")\n",
    "print(df_con_nulos)\n",
    "\n",
    "# Rellenar nulos con la media\n",
    "df_con_nulos[\"Nota\"] = df_con_nulos[\"Nota\"].fillna(df_con_nulos[\"Nota\"].mean())\n",
    "print(\"\\nDataFrame con nulos rellenados:\\n\")\n",
    "print(df_con_nulos)"
   ]
  },
  {
   "cell_type": "markdown",
   "id": "fc502493",
   "metadata": {},
   "source": [
    "Podemos agrupar datos por una columna y calcular estadísticas, útil para análisis exploratorio."
   ]
  },
  {
   "cell_type": "code",
   "execution_count": 13,
   "id": "9fe71f81",
   "metadata": {},
   "outputs": [
    {
     "name": "stdout",
     "output_type": "stream",
     "text": [
      "Media de notas por grupo:\n",
      " Grupo\n",
      "A    83.666667\n",
      "B    86.000000\n",
      "Name: Nota, dtype: float64\n"
     ]
    }
   ],
   "source": [
    "# Crear un DataFrame con más datos\n",
    "datos_grupo = {\n",
    "    \"Nombre\": [\"Ana\", \"Bob\", \"Clara\", \"David\", \"Emma\", \"Frank\"],\n",
    "    \"Grupo\": [\"A\", \"B\", \"A\", \"B\", \"A\", \"B\"],\n",
    "    \"Nota\": [85, 90, 78, 92, 88, 76],\n",
    "}\n",
    "df_grupo = pd.DataFrame(datos_grupo)\n",
    "\n",
    "# Agrupar por 'Grupo' y calcular la media de notas\n",
    "print(\"Media de notas por grupo:\\n\", df_grupo.groupby(\"Grupo\")[\"Nota\"].mean())"
   ]
  },
  {
   "cell_type": "markdown",
   "id": "df4c1368",
   "metadata": {},
   "source": [
    "Series de tiempo en Pandas"
   ]
  },
  {
   "cell_type": "code",
   "execution_count": null,
   "id": "2e0e64b7",
   "metadata": {},
   "outputs": [],
   "source": [
    "# Podríamos preguntarle a la IA: ¿Cómo genero un Dataframe cuyo index sea el tiempo? Hacer un ejemplo con datos diarios durante un año\n",
    "\n",
    "\n",
    "\n"
   ]
  },
  {
   "cell_type": "code",
   "execution_count": null,
   "id": "b78dfbcd",
   "metadata": {},
   "outputs": [],
   "source": [
    "# Podríamos preguntarle a la IA: ¿Cómo puedo calcular la suma y la media mensual de mis datos?\n",
    "\n",
    "\n",
    "\n"
   ]
  }
 ],
 "metadata": {
  "kernelspec": {
   "display_name": "work_3_11",
   "language": "python",
   "name": "python3"
  },
  "language_info": {
   "codemirror_mode": {
    "name": "ipython",
    "version": 3
   },
   "file_extension": ".py",
   "mimetype": "text/x-python",
   "name": "python",
   "nbconvert_exporter": "python",
   "pygments_lexer": "ipython3",
   "version": "3.11.11"
  }
 },
 "nbformat": 4,
 "nbformat_minor": 5
}
