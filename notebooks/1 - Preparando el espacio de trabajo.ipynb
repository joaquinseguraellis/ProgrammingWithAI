{
 "cells": [
  {
   "cell_type": "markdown",
   "id": "7ddc0f3e",
   "metadata": {},
   "source": [
    "# VS Code\n",
    "\n",
    "https://code.visualstudio.com/"
   ]
  },
  {
   "cell_type": "code",
   "execution_count": 1,
   "id": "0075611f",
   "metadata": {},
   "outputs": [
    {
     "name": "stdout",
     "output_type": "stream",
     "text": [
      "hola\n"
     ]
    }
   ],
   "source": [
    "print('hola')"
   ]
  },
  {
   "cell_type": "markdown",
   "id": "cf709e55",
   "metadata": {},
   "source": [
    "# AnaConda\n",
    "\n",
    "https://www.anaconda.com/download/success"
   ]
  },
  {
   "cell_type": "markdown",
   "id": "225813be",
   "metadata": {},
   "source": [
    "```\n",
    "conda --version\n",
    "conda create --name example python=3.12\n",
    "conda env list\n",
    "conda activate example\n",
    "conda deactivate\n",
    "conda env remove --name example\n",
    "```"
   ]
  }
 ],
 "metadata": {
  "kernelspec": {
   "display_name": "base",
   "language": "python",
   "name": "python3"
  },
  "language_info": {
   "codemirror_mode": {
    "name": "ipython",
    "version": 3
   },
   "file_extension": ".py",
   "mimetype": "text/x-python",
   "name": "python",
   "nbconvert_exporter": "python",
   "pygments_lexer": "ipython3",
   "version": "3.13.5"
  }
 },
 "nbformat": 4,
 "nbformat_minor": 5
}
