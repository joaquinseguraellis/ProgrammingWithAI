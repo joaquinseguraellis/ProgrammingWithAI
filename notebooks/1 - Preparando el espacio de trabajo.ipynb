{
 "cells": [
  {
   "cell_type": "markdown",
   "id": "7ddc0f3e",
   "metadata": {},
   "source": [
    "# VS Code\n",
    "\n",
    "https://code.visualstudio.com/"
   ]
  },
  {
   "cell_type": "markdown",
   "id": "cf709e55",
   "metadata": {},
   "source": [
    "# AnaConda\n",
    "\n",
    "https://www.anaconda.com/download/success"
   ]
  },
  {
   "cell_type": "markdown",
   "id": "225813be",
   "metadata": {},
   "source": [
    "```\n",
    "conda --version\n",
    "conda create --name example python=3.12\n",
    "conda env list\n",
    "conda activate example\n",
    "conda deactivate\n",
    "conda env remove --name example\n",
    "```"
   ]
  }
 ],
 "metadata": {
  "kernelspec": {
   "display_name": "work_3_11",
   "language": "python",
   "name": "python3"
  },
  "language_info": {
   "codemirror_mode": {
    "name": "ipython",
    "version": 3
   },
   "file_extension": ".py",
   "mimetype": "text/x-python",
   "name": "python",
   "nbconvert_exporter": "python",
   "pygments_lexer": "ipython3",
   "version": "3.11.11"
  }
 },
 "nbformat": 4,
 "nbformat_minor": 5
}
