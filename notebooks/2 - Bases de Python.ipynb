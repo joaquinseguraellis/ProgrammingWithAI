{
 "cells": [
  {
   "attachments": {
    "image.png": {
     "image/png": "[encoded data removed]"
    }
   },
   "cell_type": "markdown",
   "id": "8cd6bfcd",
   "metadata": {},
   "source": [
    "# Análisis de Datos con Python <div style=\"display: inline-block; width: 50px; vertical-align: middle;\">![image.png](attachment:image.png)</div>\n",
    "\n",
    "Esta notebook está diseñada para introducir los conceptos fundamentales de programación en Python. Cubriremos tipos de datos, variables, estructuras de control, funciones y listas."
   ]
  },
  {
   "cell_type": "markdown",
   "id": "7356ba4f",
   "metadata": {},
   "source": [
    "## 1. Tipos de Datos y Variables\n",
    "\n",
    "En Python, las variables son contenedores para almacenar datos. No es necesario declarar el tipo de dato, ya que Python es un lenguaje de tipado dinámico.\n",
    "\n",
    "**Tipos de datos básicos:**\n",
    "- Enteros (`int`): Números sin decimales, ej. `5`, `-3`.\n",
    "- Flotantes (`float`): Números con decimales, ej. `3.14`, `-0.001`.\n",
    "- Cadenas (`str`): Texto, ej. `'Hola'`, `\"Mundo\"`.\n",
    "- Booleanos (`bool`): Verdadero (`True`) o Falso (`False`)."
   ]
  },
  {
   "cell_type": "code",
   "execution_count": null,
   "id": "129f9765",
   "metadata": {},
   "outputs": [],
   "source": [
    "nombre = \"Ana\"  # Cadena\n",
    "edad = 25       # Entero\n",
    "altura = 1.65   # Flotante\n",
    "es_estudiante = True  # Booleano\n",
    "\n",
    "print(\"Nombre:\", nombre, \"- Tipo:\", type(nombre))\n",
    "print(\"Edad:\", edad, \"- Tipo:\", type(edad))\n",
    "print(\"Altura:\", altura, \"- Tipo:\", type(altura))\n",
    "print(\"Es estudiante:\", es_estudiante, \"- Tipo:\", type(es_estudiante))"
   ]
  },
  {
   "cell_type": "markdown",
   "id": "5a9bf27f",
   "metadata": {},
   "source": [
    "## 2. Operaciones Básicas\n",
    "\n",
    "Python permite realizar operaciones aritméticas, de comparación y lógicas.\n",
    "\n",
    "**Operaciones aritméticas:**\n",
    "- Suma: `+`\n",
    "- Resta: `-`\n",
    "- Multiplicación: `*`\n",
    "- División: `/`\n",
    "- División entera: `//`\n",
    "- Módulo (resto): `%`\n",
    "- Potencia: `**`"
   ]
  },
  {
   "cell_type": "code",
   "execution_count": null,
   "id": "042afd0e",
   "metadata": {},
   "outputs": [],
   "source": [
    "a = 10\n",
    "b = 3\n",
    "\n",
    "print(\"Suma:\", a + b)\n",
    "print(\"Resta:\", a - b)\n",
    "print(\"Multiplicación:\", a * b)\n",
    "print(\"División:\", a / b)\n",
    "print(\"División entera:\", a // b)\n",
    "print(\"Módulo:\", a % b)\n",
    "print(\"Potencia:\", a ** b)"
   ]
  },
  {
   "cell_type": "markdown",
   "id": "fbf40748",
   "metadata": {},
   "source": [
    "## 3. Estructuras de Control\n",
    "\n",
    "Las estructuras de control permiten tomar decisiones y repetir acciones.\n",
    "\n",
    "**Condicionales (`if`, `elif`, `else`):**\n",
    "Se utilizan para ejecutar código según condiciones."
   ]
  },
  {
   "cell_type": "code",
   "execution_count": null,
   "id": "38f622cc",
   "metadata": {},
   "outputs": [],
   "source": [
    "edad = int(input(\"Introduce tu edad: \"))\n",
    "\n",
    "if edad >= 18:\n",
    "    print(\"Eres mayor de edad.\")\n",
    "elif edad >= 13:\n",
    "    print(\"Eres adolescente.\")\n",
    "else:\n",
    "    print(\"Eres menor de edad.\")"
   ]
  },
  {
   "cell_type": "markdown",
   "id": "1bfa8568",
   "metadata": {},
   "source": [
    "**Bucles (`for` y `while`):**\n",
    "- `for`: Itera sobre una secuencia (como una lista o rango).\n",
    "- `while`: Repite mientras una condición sea verdadera."
   ]
  },
  {
   "cell_type": "code",
   "execution_count": null,
   "id": "182200a7",
   "metadata": {},
   "outputs": [],
   "source": [
    "print(\"Bucle for:\")\n",
    "for i in range(5):\n",
    "    print(\"Iteración\", i)\n",
    "\n",
    "print(\"\\nBucle while:\")\n",
    "contador = 0\n",
    "while contador < 5:\n",
    "    print(\"Contador:\", contador)\n",
    "    contador += 1"
   ]
  },
  {
   "cell_type": "markdown",
   "id": "fb34cb1d",
   "metadata": {},
   "source": [
    "## 4. Listas\n",
    "\n",
    "Las listas son colecciones ordenadas y mutables que pueden contener elementos de diferentes tipos."
   ]
  },
  {
   "cell_type": "code",
   "execution_count": null,
   "id": "60c00670",
   "metadata": {},
   "outputs": [],
   "source": [
    "frutas = [\"manzana\", \"banana\", \"naranja\"]\n",
    "\n",
    "# Acceder a elementos\n",
    "print(\"Primera fruta:\", frutas[0])\n",
    "\n",
    "# Modificar elementos\n",
    "frutas[1] = \"pera\"\n",
    "print(\"\\nLista modificada:\", frutas)\n",
    "\n",
    "# Agregar elementos\n",
    "frutas.append(\"uva\")\n",
    "print(\"\\nLista con nueva fruta:\", frutas)\n",
    "\n",
    "# Eliminar elementos\n",
    "frutas.remove(\"naranja\")\n",
    "print(\"\\nLista después de eliminar naranja:\", frutas, '\\n')\n",
    "\n",
    "# Tuplas\n",
    "nombres = ('Joaquín', 'Andrés', 'Rocío')\n",
    "try:\n",
    "    nombres[0] = 'Juan'\n",
    "except TypeError as e:\n",
    "    print(e)"
   ]
  },
  {
   "cell_type": "markdown",
   "id": "71f0f5e5",
   "metadata": {},
   "source": [
    "## 5. Diccionarios"
   ]
  },
  {
   "cell_type": "code",
   "execution_count": 5,
   "id": "9e677378",
   "metadata": {},
   "outputs": [
    {
     "name": "stdout",
     "output_type": "stream",
     "text": [
      "{'ejemplo': [['3', 1], [True, 'Hola']], 'otra cosa': 9, (9, 'Hola'): 'Que tal'}\n",
      "{'dict_dentro_dict': {'var_1': [0, 1, 2, 3, 4, 5, 6], 'var_2': [0, 1, 2, 3, 4, 5, 6, 7, 8, 9, 10, 11, 12, 13, 14, 15, 16, 17, 18, 19, 20, 21, 22, 23, 24, 25, 26, 27, 28, 29, 30, 31, 32, 33, 34, 35, 36, 37, 38, 39, 40, 41, 42, 43, 44, 45, 46, 47, 48, 49, 50, 51, 52, 53, 54, 55, 56, 57, 58, 59, 60, 61, 62, 63, 64, 65, 66, 67, 68, 69]}}\n"
     ]
    }
   ],
   "source": [
    "my_dict = {\n",
    "    'ejemplo': [['3', 1], [True, 'Hola']],\n",
    "    'otra cosa': 9,\n",
    "    (9, 'Hola'): 'Que tal',\n",
    "}\n",
    "print(my_dict)\n",
    "\n",
    "my_other_dict = {\n",
    "    'dict_dentro_dict': {\n",
    "        'var_1': [0, 1, 2, 3, 4, 5, 6],\n",
    "        'var_2': [_ for _ in range(70)],\n",
    "    }\n",
    "}\n",
    "print(my_other_dict)"
   ]
  },
  {
   "cell_type": "markdown",
   "id": "3b400f88",
   "metadata": {},
   "source": [
    "## 6. Funciones\n",
    "\n",
    "Las funciones permiten encapsular código reutilizable. Se definen con la palabra clave `def`."
   ]
  },
  {
   "cell_type": "code",
   "execution_count": null,
   "id": "7b07361c",
   "metadata": {},
   "outputs": [],
   "source": [
    "def saludar(nombre):\n",
    "    return f\"¡Hola, {nombre}!\"\n",
    "\n",
    "mensaje = saludar(\"Carlos\")\n",
    "print(mensaje)\n",
    "\n",
    "def calcular_area(base, altura=10):\n",
    "    return base * altura\n",
    "\n",
    "print(\"\\nÁrea con altura predeterminada:\", calcular_area(5))\n",
    "print(\"Área con altura especificada:\", calcular_area(5, 20))\n",
    "print(\"Área con altura especificada:\", calcular_area(5, altura=20), '\\n')\n",
    "\n",
    "def hacer_algo(cosa: str, veces: int = 1) -> None:\n",
    "    for _ in range(veces):\n",
    "        print(f\"Haciendo {cosa}\")\n",
    "\n",
    "hacer_algo(\"ejercicio\", 3)"
   ]
  },
  {
   "cell_type": "markdown",
   "id": "ecaff253",
   "metadata": {},
   "source": [
    "## 7. Clases\n",
    "\n",
    "Las clases proveen una forma de empaquetar datos y funcionalidad juntos. Al crear una nueva clase, se crea un nuevo tipo de objeto, permitiendo crear nuevas instancias de ese tipo. Cada instancia de clase puede tener atributos adjuntos para mantener su estado. Las instancias de clase también pueden tener métodos (definidos por su clase) para modificar su estado."
   ]
  },
  {
   "cell_type": "code",
   "execution_count": null,
   "id": "22b4efc6",
   "metadata": {},
   "outputs": [],
   "source": [
    "class Dataset:\n",
    "\n",
    "    def __init__(self, name, data):\n",
    "        self.name = name\n",
    "        self.data = data\n",
    "\n",
    "    def __repr__(self):\n",
    "        return f\"Dataset(name={self.name}, data_length={len(self.data)}, mean={self.calculate_mean():.2f}°C)\"\n",
    "    \n",
    "    def calculate_mean(self):\n",
    "        return sum(self.data) / len(self.data)\n",
    "    \n",
    "    def add_data(self, new_data):\n",
    "        self.data.extend(new_data)\n",
    "\n",
    "    def save_data(self, path):\n",
    "        with open(path, 'w') as file:\n",
    "            for item in self.data:\n",
    "                file.write(f\"{item}\\n\")\n",
    "\n",
    "name = \"Daily Temperatures\"\n",
    "data = [22.5, 23.0, 21.8, 22.9]\n",
    "temp_data = Dataset(name, data)\n",
    "\n",
    "print(f\"Dataset: {temp_data.name}\")\n",
    "print(f\"Mean: {temp_data.calculate_mean():.2f}°C\")\n",
    "print(temp_data.data)\n",
    "print(temp_data)\n",
    "\n",
    "temp_data.add_data([23.5, 24.0])\n",
    "print(f\"\\nUpdated Mean: {temp_data.calculate_mean():.2f}°C\")\n",
    "print(temp_data.data)\n",
    "print(temp_data.save_data(\"temperatures.txt\"))"
   ]
  },
  {
   "cell_type": "markdown",
   "id": "c1a3826b",
   "metadata": {},
   "source": [
    "## 8. Strings (Cadenas)"
   ]
  },
  {
   "cell_type": "code",
   "execution_count": null,
   "id": "6238415f",
   "metadata": {},
   "outputs": [],
   "source": [
    "class File:\n",
    "\n",
    "    def __init__(self, path):\n",
    "        self.path = path\n",
    "    \n",
    "    def read(self):\n",
    "        with open(self.path, 'r') as file:\n",
    "            data = file.read()\n",
    "        return data\n",
    "\n",
    "my_file = File(\"temperatures.txt\")\n",
    "data = my_file.read()\n",
    "print(data)\n",
    "data"
   ]
  },
  {
   "cell_type": "code",
   "execution_count": null,
   "id": "5e740068",
   "metadata": {},
   "outputs": [],
   "source": [
    "print(data[:5].encode())\n",
    "print()\n",
    "\n",
    "data_replace = data.replace('\\n', ',')\n",
    "print(data_replace)\n",
    "print()\n",
    "\n",
    "data_list = data.split('\\n')\n",
    "print(data_list)\n",
    "print()\n",
    "\n",
    "data_list = data_list[:-1]\n",
    "print(data_list)\n",
    "print(type(data_list))\n",
    "print(type(data_list[0]))\n",
    "print()\n",
    "\n",
    "data_list_num = [float(i) for i in data_list]\n",
    "print(data_list_num)"
   ]
  }
 ],
 "metadata": {
  "kernelspec": {
   "display_name": "work_3_11",
   "language": "python",
   "name": "python3"
  },
  "language_info": {
   "codemirror_mode": {
    "name": "ipython",
    "version": 3
   },
   "file_extension": ".py",
   "mimetype": "text/x-python",
   "name": "python",
   "nbconvert_exporter": "python",
   "pygments_lexer": "ipython3",
   "version": "3.11.11"
  }
 },
 "nbformat": 4,
 "nbformat_minor": 5
}
